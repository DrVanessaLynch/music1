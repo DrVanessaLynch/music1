{
 "cells": [
  {
   "cell_type": "markdown",
   "metadata": {},
   "source": [
    "## Interference Patterns"
   ]
  },
  {
   "cell_type": "code",
   "execution_count": 1,
   "metadata": {},
   "outputs": [],
   "source": [
    "import pyaudio\n",
    "import numpy as np\n",
    "from numpy import cos\n",
    "from IPython.display import display, Audio\n",
    "from ipywidgets import interactive, IntSlider, Checkbox, Layout, VBox, HBox\n",
    "import matplotlib.pyplot as plt\n",
    "\n",
    "%matplotlib inline"
   ]
  },
  {
   "cell_type": "code",
   "execution_count": 2,
   "metadata": {},
   "outputs": [],
   "source": [
    "#number of points to plot\n",
    "plot_samples = 1000\n",
    "\n",
    "#length of the audio sample\n",
    "sample_length = 50000\n",
    "\n",
    "#audio rate for the sample\n",
    "audio_rate    = 22050"
   ]
  },
  {
   "cell_type": "markdown",
   "metadata": {},
   "source": [
    "The integers that we're using to describe the frequency below are using the same convention found in MIDI files. The frequency is <br/> <br/>\n",
    "\\begin{equation*}\n",
    "\\large{frequency = 2 \\pi * 440.0 * 2^{(n-69)/12}}\n",
    "\\end{equation*}"
   ]
  },
  {
   "cell_type": "code",
   "execution_count": 3,
   "metadata": {},
   "outputs": [],
   "source": [
    "def freq(n):\n",
    "    return 440.0*2.0**((n-69)/12.0)*2*np.pi\n",
    "\n",
    "def y(x,frequencies,coefficients):\n",
    "    mysum = np.zeros(len(x),dtype=float)\n",
    "    for i in range(len(frequencies)):\n",
    "        mysum += coefficients[i] * cos(freq(frequencies[i])*x)\n",
    "    return mysum\n",
    "\n",
    "def f(a, b, c, d, ax, bx, cx, dx):\n",
    "    c1=c2=c3=c4 = 0.0\n",
    "    if ax:\n",
    "        c1=1.0\n",
    "    if bx:\n",
    "        c2=1.0\n",
    "    if cx:\n",
    "        c3=1.0\n",
    "    if dx:\n",
    "        c4=1.0        \n",
    "    plt.figure(2,figsize=(10,5))\n",
    "    x = np.linspace(0, 0.2, num=plot_samples)\n",
    "    plt.plot(x, y(x,[a,b,c,d],[c1,c2,c3,c4]))\n",
    "    plt.ylim(-5, 5)\n",
    "    \n",
    "    xx   = np.linspace(0, sample_length/audio_rate, num=sample_length)\n",
    "    chord = y(xx,[a,b,c,d],[c1,c2,c3,c4])\n",
    "    chord = chord / max(abs(chord))\n",
    "\n",
    "    #display the widget for the audio\n",
    "    display(Audio(chord, rate=audio_rate))\n",
    "    \n",
    "    #display the plot \n",
    "    plt.show()   "
   ]
  },
  {
   "cell_type": "code",
   "execution_count": 4,
   "metadata": {},
   "outputs": [
    {
     "data": {
      "application/vnd.jupyter.widget-view+json": {
       "model_id": "0884a9c37b8140679073e39c297a7501",
       "version_major": 2,
       "version_minor": 0
      },
      "text/plain": [
       "VBox(children=(HBox(children=(VBox(children=(IntSlider(value=46, description='a', max=74, min=46), IntSlider(v…"
      ]
     },
     "metadata": {},
     "output_type": "display_data"
    }
   ],
   "source": [
    "interactive_plot = interactive(f,ax=True, bx=True, cx=False, dx=False,\n",
    "                               a=IntSlider(min=46, max=74, step=1, value=46),\n",
    "                               b=IntSlider(min=46, max=74, step=1, value=47),\n",
    "                               c=IntSlider(min=46, max=74, step=1, value=46),\n",
    "                               d=IntSlider(min=46, max=74, step=1, value=46))\n",
    "\n",
    "output=interactive_plot.children[-1]\n",
    "output.layout.height = '400px'\n",
    "output.layout.width  = '700px'\n",
    "\n",
    "vb1 = VBox(interactive_plot.children[0:4])\n",
    "vb2 = VBox(interactive_plot.children[4:8])\n",
    "\n",
    "hb1 = HBox([vb1,vb2])\n",
    "vb3 = VBox([hb1,output])\n",
    "display(vb3)"
   ]
  },
  {
   "cell_type": "code",
   "execution_count": null,
   "metadata": {},
   "outputs": [],
   "source": []
  }
 ],
 "metadata": {
  "kernelspec": {
   "display_name": "Python 3",
   "language": "python",
   "name": "python3"
  },
  "language_info": {
   "codemirror_mode": {
    "name": "ipython",
    "version": 3
   },
   "file_extension": ".py",
   "mimetype": "text/x-python",
   "name": "python",
   "nbconvert_exporter": "python",
   "pygments_lexer": "ipython3",
   "version": "3.7.7"
  }
 },
 "nbformat": 4,
 "nbformat_minor": 4
}
