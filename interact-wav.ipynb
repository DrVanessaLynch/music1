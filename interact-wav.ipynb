{
 "cells": [
  {
   "cell_type": "markdown",
   "metadata": {},
   "source": [
    "## Estimating a sound wave\n",
    "\n",
    "In this notebook, we read in a recording of a single note on a violin, we estimate it using small number of cosine functions, we plot both for comparison, and we also make both available for listening."
   ]
  },
  {
   "cell_type": "code",
   "execution_count": 1,
   "metadata": {},
   "outputs": [],
   "source": [
    "import pyaudio\n",
    "import wave\n",
    "import numpy as np\n",
    "import matplotlib.pyplot as plt\n",
    "\n",
    "from scipy.fft       import dct, idct\n",
    "from ipywidgets      import interactive, SelectionSlider\n",
    "from IPython.display import display, Audio\n",
    "\n",
    "%matplotlib inline"
   ]
  },
  {
   "cell_type": "markdown",
   "metadata": {},
   "source": [
    "#### Reading the WAV file\n",
    "Below, we read in an entire example wave file. We convert it into a numpy array of floats for later manipulation."
   ]
  },
  {
   "cell_type": "code",
   "execution_count": 2,
   "metadata": {},
   "outputs": [
    {
     "data": {
      "text/html": [
       "\n",
       "                <audio  controls=\"controls\" >\n",
       "                    <source src=\"data:audio/wav;base64,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\" type=\"audio/wav\" />\n",
       "                    Your browser does not support the audio element.\n",
       "                </audio>\n",
       "              "
      ],
      "text/plain": [
       "<IPython.lib.display.Audio object>"
      ]
     },
     "metadata": {},
     "output_type": "display_data"
    }
   ],
   "source": [
    "p = pyaudio.PyAudio()\n",
    "\n",
    "wf    = wave.open(\"data/fiddleg2.wav\", \"r\")\n",
    "chunk = wf.getnframes()\n",
    "\n",
    "signal  = wf.readframes(chunk)\n",
    "\n",
    "data_np = np.frombuffer(signal, dtype=np.uint8).astype(float)-128.0\n",
    "max_amp = max(data_np)\n",
    "data_np = data_np/max_amp\n",
    "\n",
    "display(Audio(data_np, rate=wf.getframerate()))"
   ]
  },
  {
   "cell_type": "markdown",
   "metadata": {},
   "source": [
    "**Clicking above, you can listen to a single note on a violin from the original wav file.**\n",
    "\n",
    "Directly below, we define a function we'll use for an interactive plot."
   ]
  },
  {
   "cell_type": "code",
   "execution_count": 3,
   "metadata": {},
   "outputs": [],
   "source": [
    "def plot_funcs(num):\n",
    "        max_coef = int(num)\n",
    "        fig, (ax, ax2) = plt.subplots(2, figsize=(15,13))\n",
    "        x = np.arange(0, 2*chunk, 2)\n",
    "        line,  = ax.plot(x, np.random.rand(chunk), '-', lw=1)\n",
    "        line2, = ax2.plot(x, np.random.rand(chunk), '-', lw=1)\n",
    "        ax.set_title('Original Waveform')\n",
    "        ax.set_xlabel('time')\n",
    "        ax.set_ylabel('volume')\n",
    "        ax.set_ylim(-1,1)\n",
    "        ax.set_xlim(0,chunk)\n",
    "        ax2.set_title('Estimated Waveform')\n",
    "        ax2.set_xlabel('time')\n",
    "        ax2.set_ylabel('volume')\n",
    "        ax2.set_ylim(-1,1)\n",
    "        ax2.set_xlim(0,chunk)\n",
    "        cutoff = -ys[max_coef-1]\n",
    "        for i in range(chunk):\n",
    "            if abs(y[i]) < cutoff:\n",
    "                y_trunc[i]=0.0\n",
    "            else:\n",
    "                y_trunc[i]=y[i] \n",
    "        yr = idct(y_trunc, norm='ortho')\n",
    "        line2.set_ydata(yr) \n",
    "        line.set_ydata(data_np)\n",
    "        yr = idct(y_trunc, norm='ortho')\n",
    "        yr = yr / max(abs(yr))\n",
    "        frames = yr\n",
    "        fig.canvas.draw()\n",
    "        fig.canvas.flush_events()\n",
    "        plt.show(block=True)\n",
    "        display(Audio(frames, rate=wf.getframerate()))\n"
   ]
  },
  {
   "cell_type": "markdown",
   "metadata": {},
   "source": [
    "#### Descrete cosine transform\n",
    "In the next cell, we perform a descrete cosine transform of the original signal. This represents the original signal as a linear sum of cosine functions. If we use as many cosine functions as sampling points from the original wave file, we don't lose any quality. When we use fewer functions, it progressively simplifies the sound.\n",
    "\n",
    "\\begin{equation*}\n",
    "f(t) \\approx \\sum_{k=1}^n a_kcos(b_kt)   \n",
    "\\end{equation*}"
   ]
  },
  {
   "cell_type": "code",
   "execution_count": 4,
   "metadata": {},
   "outputs": [
    {
     "data": {
      "application/vnd.jupyter.widget-view+json": {
       "model_id": "aa8414565ad24e2992ae9092dbbb0d01",
       "version_major": 2,
       "version_minor": 0
      },
      "text/plain": [
       "interactive(children=(SelectionSlider(description='N cosines', options=(1, 2, 4, 8, 16, 32, 64, 128, 256, 512,…"
      ]
     },
     "metadata": {},
     "output_type": "display_data"
    }
   ],
   "source": [
    "y       = dct(data_np, norm='ortho')\n",
    "ys      = sorted(-abs(y))\n",
    "y_trunc = np.zeros(chunk,dtype=float)\n",
    "\n",
    "myoptions = [int(2**x) for x in np.arange(0, np.log2(chunk))] + [chunk]\n",
    "interactive_plot = interactive(plot_funcs, num=SelectionSlider(options=myoptions, value=1, \n",
    "                                                               description='N cosines'))\n",
    "output = interactive_plot.children[-1]\n",
    "output.layout.height = '800px'\n",
    "output.layout.width  = '800px'\n",
    "interactive_plot"
   ]
  },
  {
   "cell_type": "markdown",
   "metadata": {},
   "source": [
    "**You can use the slider above to change the number of cosine functions used to represent the sound.**"
   ]
  },
  {
   "cell_type": "code",
   "execution_count": null,
   "metadata": {},
   "outputs": [],
   "source": []
  }
 ],
 "metadata": {
  "kernelspec": {
   "display_name": "Python 3",
   "language": "python",
   "name": "python3"
  },
  "language_info": {
   "codemirror_mode": {
    "name": "ipython",
    "version": 3
   },
   "file_extension": ".py",
   "mimetype": "text/x-python",
   "name": "python",
   "nbconvert_exporter": "python",
   "pygments_lexer": "ipython3",
   "version": "3.7.7"
  }
 },
 "nbformat": 4,
 "nbformat_minor": 4
}
